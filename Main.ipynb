{
 "cells": [
  {
   "cell_type": "code",
   "execution_count": 2,
   "metadata": {},
   "outputs": [],
   "source": [
    "import numpy as np\n",
    "import pandas as pd\n",
    "import seaborn as sns"
   ]
  },
  {
   "cell_type": "code",
   "execution_count": 3,
   "metadata": {},
   "outputs": [],
   "source": [
    "def remove_outlier(df_in, col_name):\n",
    "    q1 = df_in[col_name].quantile(0.25)\n",
    "    q3 = df_in[col_name].quantile(0.75)\n",
    "    iqr = q3-q1 #Interquartile range\n",
    "    fence_low  = q1-1.5*iqr\n",
    "    fence_high = q3+1.5*iqr\n",
    "    df_out = df_in.loc[(df_in[col_name] > fence_low) & (df_in[col_name] < fence_high)]\n",
    "    return df_out"
   ]
  },
  {
   "attachments": {},
   "cell_type": "markdown",
   "metadata": {},
   "source": [
    "The First Part of our Project is opening the tables and getting a feel of the data "
   ]
  },
  {
   "cell_type": "code",
   "execution_count": 4,
   "metadata": {},
   "outputs": [
    {
     "name": "stderr",
     "output_type": "stream",
     "text": [
      "C:\\Users\\Yahia\\AppData\\Local\\Temp\\ipykernel_3932\\884131147.py:1: DtypeWarning: Columns (7,8) have mixed types. Specify dtype option on import or set low_memory=False.\n",
      "  flights = pd.read_csv('flights.csv')\n"
     ]
    }
   ],
   "source": [
    "flights = pd.read_csv('flights.csv')\n",
    "airports = pd.read_csv('airports.csv')\n",
    "airlines = pd.read_csv('airlines.csv')"
   ]
  },
  {
   "cell_type": "code",
   "execution_count": 5,
   "metadata": {},
   "outputs": [
    {
     "data": {
      "text/plain": [
       "Index(['YEAR', 'MONTH', 'DAY', 'DAY_OF_WEEK', 'AIRLINE', 'FLIGHT_NUMBER',\n",
       "       'TAIL_NUMBER', 'ORIGIN_AIRPORT', 'DESTINATION_AIRPORT',\n",
       "       'SCHEDULED_DEPARTURE', 'DEPARTURE_TIME', 'DEPARTURE_DELAY', 'TAXI_OUT',\n",
       "       'WHEELS_OFF', 'SCHEDULED_TIME', 'ELAPSED_TIME', 'AIR_TIME', 'DISTANCE',\n",
       "       'WHEELS_ON', 'TAXI_IN', 'SCHEDULED_ARRIVAL', 'ARRIVAL_TIME',\n",
       "       'ARRIVAL_DELAY', 'DIVERTED', 'CANCELLED', 'CANCELLATION_REASON',\n",
       "       'AIR_SYSTEM_DELAY', 'SECURITY_DELAY', 'AIRLINE_DELAY',\n",
       "       'LATE_AIRCRAFT_DELAY', 'WEATHER_DELAY'],\n",
       "      dtype='object')"
      ]
     },
     "execution_count": 5,
     "metadata": {},
     "output_type": "execute_result"
    }
   ],
   "source": [
    "flights.head()\n",
    "flights.columns"
   ]
  },
  {
   "attachments": {},
   "cell_type": "markdown",
   "metadata": {},
   "source": []
  },
  {
   "cell_type": "code",
   "execution_count": 6,
   "metadata": {},
   "outputs": [
    {
     "data": {
      "text/html": [
       "<div>\n",
       "<style scoped>\n",
       "    .dataframe tbody tr th:only-of-type {\n",
       "        vertical-align: middle;\n",
       "    }\n",
       "\n",
       "    .dataframe tbody tr th {\n",
       "        vertical-align: top;\n",
       "    }\n",
       "\n",
       "    .dataframe thead th {\n",
       "        text-align: right;\n",
       "    }\n",
       "</style>\n",
       "<table border=\"1\" class=\"dataframe\">\n",
       "  <thead>\n",
       "    <tr style=\"text-align: right;\">\n",
       "      <th></th>\n",
       "      <th>IATA_CODE</th>\n",
       "      <th>AIRPORT</th>\n",
       "      <th>CITY</th>\n",
       "      <th>STATE</th>\n",
       "      <th>COUNTRY</th>\n",
       "      <th>LATITUDE</th>\n",
       "      <th>LONGITUDE</th>\n",
       "    </tr>\n",
       "  </thead>\n",
       "  <tbody>\n",
       "    <tr>\n",
       "      <th>0</th>\n",
       "      <td>ABE</td>\n",
       "      <td>Lehigh Valley International Airport</td>\n",
       "      <td>Allentown</td>\n",
       "      <td>PA</td>\n",
       "      <td>USA</td>\n",
       "      <td>40.65236</td>\n",
       "      <td>-75.44040</td>\n",
       "    </tr>\n",
       "    <tr>\n",
       "      <th>1</th>\n",
       "      <td>ABI</td>\n",
       "      <td>Abilene Regional Airport</td>\n",
       "      <td>Abilene</td>\n",
       "      <td>TX</td>\n",
       "      <td>USA</td>\n",
       "      <td>32.41132</td>\n",
       "      <td>-99.68190</td>\n",
       "    </tr>\n",
       "    <tr>\n",
       "      <th>2</th>\n",
       "      <td>ABQ</td>\n",
       "      <td>Albuquerque International Sunport</td>\n",
       "      <td>Albuquerque</td>\n",
       "      <td>NM</td>\n",
       "      <td>USA</td>\n",
       "      <td>35.04022</td>\n",
       "      <td>-106.60919</td>\n",
       "    </tr>\n",
       "    <tr>\n",
       "      <th>3</th>\n",
       "      <td>ABR</td>\n",
       "      <td>Aberdeen Regional Airport</td>\n",
       "      <td>Aberdeen</td>\n",
       "      <td>SD</td>\n",
       "      <td>USA</td>\n",
       "      <td>45.44906</td>\n",
       "      <td>-98.42183</td>\n",
       "    </tr>\n",
       "    <tr>\n",
       "      <th>4</th>\n",
       "      <td>ABY</td>\n",
       "      <td>Southwest Georgia Regional Airport</td>\n",
       "      <td>Albany</td>\n",
       "      <td>GA</td>\n",
       "      <td>USA</td>\n",
       "      <td>31.53552</td>\n",
       "      <td>-84.19447</td>\n",
       "    </tr>\n",
       "  </tbody>\n",
       "</table>\n",
       "</div>"
      ],
      "text/plain": [
       "  IATA_CODE                              AIRPORT         CITY STATE COUNTRY  \\\n",
       "0       ABE  Lehigh Valley International Airport    Allentown    PA     USA   \n",
       "1       ABI             Abilene Regional Airport      Abilene    TX     USA   \n",
       "2       ABQ    Albuquerque International Sunport  Albuquerque    NM     USA   \n",
       "3       ABR            Aberdeen Regional Airport     Aberdeen    SD     USA   \n",
       "4       ABY   Southwest Georgia Regional Airport       Albany    GA     USA   \n",
       "\n",
       "   LATITUDE  LONGITUDE  \n",
       "0  40.65236  -75.44040  \n",
       "1  32.41132  -99.68190  \n",
       "2  35.04022 -106.60919  \n",
       "3  45.44906  -98.42183  \n",
       "4  31.53552  -84.19447  "
      ]
     },
     "execution_count": 6,
     "metadata": {},
     "output_type": "execute_result"
    }
   ],
   "source": [
    "airports.head()"
   ]
  },
  {
   "cell_type": "code",
   "execution_count": 7,
   "metadata": {},
   "outputs": [
    {
     "data": {
      "text/html": [
       "<div>\n",
       "<style scoped>\n",
       "    .dataframe tbody tr th:only-of-type {\n",
       "        vertical-align: middle;\n",
       "    }\n",
       "\n",
       "    .dataframe tbody tr th {\n",
       "        vertical-align: top;\n",
       "    }\n",
       "\n",
       "    .dataframe thead th {\n",
       "        text-align: right;\n",
       "    }\n",
       "</style>\n",
       "<table border=\"1\" class=\"dataframe\">\n",
       "  <thead>\n",
       "    <tr style=\"text-align: right;\">\n",
       "      <th></th>\n",
       "      <th>IATA_CODE</th>\n",
       "      <th>AIRLINE</th>\n",
       "    </tr>\n",
       "  </thead>\n",
       "  <tbody>\n",
       "    <tr>\n",
       "      <th>0</th>\n",
       "      <td>UA</td>\n",
       "      <td>United Air Lines Inc.</td>\n",
       "    </tr>\n",
       "    <tr>\n",
       "      <th>1</th>\n",
       "      <td>AA</td>\n",
       "      <td>American Airlines Inc.</td>\n",
       "    </tr>\n",
       "    <tr>\n",
       "      <th>2</th>\n",
       "      <td>US</td>\n",
       "      <td>US Airways Inc.</td>\n",
       "    </tr>\n",
       "    <tr>\n",
       "      <th>3</th>\n",
       "      <td>F9</td>\n",
       "      <td>Frontier Airlines Inc.</td>\n",
       "    </tr>\n",
       "    <tr>\n",
       "      <th>4</th>\n",
       "      <td>B6</td>\n",
       "      <td>JetBlue Airways</td>\n",
       "    </tr>\n",
       "  </tbody>\n",
       "</table>\n",
       "</div>"
      ],
      "text/plain": [
       "  IATA_CODE                 AIRLINE\n",
       "0        UA   United Air Lines Inc.\n",
       "1        AA  American Airlines Inc.\n",
       "2        US         US Airways Inc.\n",
       "3        F9  Frontier Airlines Inc.\n",
       "4        B6         JetBlue Airways"
      ]
     },
     "execution_count": 7,
     "metadata": {},
     "output_type": "execute_result"
    }
   ],
   "source": [
    "airlines.head()"
   ]
  },
  {
   "attachments": {},
   "cell_type": "markdown",
   "metadata": {},
   "source": [
    "After acessing the data we can determine that the data can be joined on the following attributes :\n"
   ]
  },
  {
   "attachments": {},
   "cell_type": "markdown",
   "metadata": {},
   "source": [
    "flights.ORIGIN_AIRPORT = airports.IATA_CODE\n"
   ]
  },
  {
   "cell_type": "markdown",
   "metadata": {},
   "source": [
    "flights.DESTINATION_AIRPORT = airports.IATA_CODE\n",
    "flights.AIRLINE = airlines.IATA_CODE\n"
   ]
  },
  {
   "cell_type": "markdown",
   "metadata": {},
   "source": [
    "flights.DESTINATION_AIRPORT = airports.IATA_CODE\n",
    "flights.AIRLINE = airlines.IATA_CODE\n"
   ]
  },
  {
   "cell_type": "code",
   "execution_count": 8,
   "metadata": {},
   "outputs": [],
   "source": [
    "mergedPD =pd.merge(flights, airports, left_on='DESTINATION_AIRPORT', right_on='IATA_CODE', how='left')"
   ]
  },
  {
   "attachments": {},
   "cell_type": "markdown",
   "metadata": {},
   "source": [
    "After Intial Merging We need to rename columns to little ensure a no confusion"
   ]
  },
  {
   "cell_type": "code",
   "execution_count": 9,
   "metadata": {},
   "outputs": [
    {
     "data": {
      "text/html": [
       "<div>\n",
       "<style scoped>\n",
       "    .dataframe tbody tr th:only-of-type {\n",
       "        vertical-align: middle;\n",
       "    }\n",
       "\n",
       "    .dataframe tbody tr th {\n",
       "        vertical-align: top;\n",
       "    }\n",
       "\n",
       "    .dataframe thead th {\n",
       "        text-align: right;\n",
       "    }\n",
       "</style>\n",
       "<table border=\"1\" class=\"dataframe\">\n",
       "  <thead>\n",
       "    <tr style=\"text-align: right;\">\n",
       "      <th></th>\n",
       "      <th>YEAR</th>\n",
       "      <th>MONTH</th>\n",
       "      <th>DAY</th>\n",
       "      <th>DAY_OF_WEEK</th>\n",
       "      <th>AIRLINE</th>\n",
       "      <th>FLIGHT_NUMBER</th>\n",
       "      <th>TAIL_NUMBER</th>\n",
       "      <th>ORIGIN_AIRPORT</th>\n",
       "      <th>DESTINATION_AIRPORT</th>\n",
       "      <th>SCHEDULED_DEPARTURE</th>\n",
       "      <th>...</th>\n",
       "      <th>AIRLINE_DELAY</th>\n",
       "      <th>LATE_AIRCRAFT_DELAY</th>\n",
       "      <th>WEATHER_DELAY</th>\n",
       "      <th>DEST_AIRPORT_IATA_CODE</th>\n",
       "      <th>DEST_AIRPORT_NAME</th>\n",
       "      <th>DEST_AIRPORT_CITY</th>\n",
       "      <th>DEST_AIRPORT_STATE</th>\n",
       "      <th>DEST_AIRPORT_COUNTRY</th>\n",
       "      <th>DEST_AIRPORT_LATITUDE</th>\n",
       "      <th>DEST_AIRPORT_LONGITUDE</th>\n",
       "    </tr>\n",
       "  </thead>\n",
       "  <tbody>\n",
       "    <tr>\n",
       "      <th>0</th>\n",
       "      <td>2015</td>\n",
       "      <td>1</td>\n",
       "      <td>1</td>\n",
       "      <td>4</td>\n",
       "      <td>AS</td>\n",
       "      <td>98</td>\n",
       "      <td>N407AS</td>\n",
       "      <td>ANC</td>\n",
       "      <td>SEA</td>\n",
       "      <td>5</td>\n",
       "      <td>...</td>\n",
       "      <td>NaN</td>\n",
       "      <td>NaN</td>\n",
       "      <td>NaN</td>\n",
       "      <td>SEA</td>\n",
       "      <td>Seattle-Tacoma International Airport</td>\n",
       "      <td>Seattle</td>\n",
       "      <td>WA</td>\n",
       "      <td>USA</td>\n",
       "      <td>47.44898</td>\n",
       "      <td>-122.30931</td>\n",
       "    </tr>\n",
       "    <tr>\n",
       "      <th>1</th>\n",
       "      <td>2015</td>\n",
       "      <td>1</td>\n",
       "      <td>1</td>\n",
       "      <td>4</td>\n",
       "      <td>AA</td>\n",
       "      <td>2336</td>\n",
       "      <td>N3KUAA</td>\n",
       "      <td>LAX</td>\n",
       "      <td>PBI</td>\n",
       "      <td>10</td>\n",
       "      <td>...</td>\n",
       "      <td>NaN</td>\n",
       "      <td>NaN</td>\n",
       "      <td>NaN</td>\n",
       "      <td>PBI</td>\n",
       "      <td>Palm Beach International Airport</td>\n",
       "      <td>West Palm Beach</td>\n",
       "      <td>FL</td>\n",
       "      <td>USA</td>\n",
       "      <td>26.68316</td>\n",
       "      <td>-80.09559</td>\n",
       "    </tr>\n",
       "    <tr>\n",
       "      <th>2</th>\n",
       "      <td>2015</td>\n",
       "      <td>1</td>\n",
       "      <td>1</td>\n",
       "      <td>4</td>\n",
       "      <td>US</td>\n",
       "      <td>840</td>\n",
       "      <td>N171US</td>\n",
       "      <td>SFO</td>\n",
       "      <td>CLT</td>\n",
       "      <td>20</td>\n",
       "      <td>...</td>\n",
       "      <td>NaN</td>\n",
       "      <td>NaN</td>\n",
       "      <td>NaN</td>\n",
       "      <td>CLT</td>\n",
       "      <td>Charlotte Douglas International Airport</td>\n",
       "      <td>Charlotte</td>\n",
       "      <td>NC</td>\n",
       "      <td>USA</td>\n",
       "      <td>35.21401</td>\n",
       "      <td>-80.94313</td>\n",
       "    </tr>\n",
       "    <tr>\n",
       "      <th>3</th>\n",
       "      <td>2015</td>\n",
       "      <td>1</td>\n",
       "      <td>1</td>\n",
       "      <td>4</td>\n",
       "      <td>AA</td>\n",
       "      <td>258</td>\n",
       "      <td>N3HYAA</td>\n",
       "      <td>LAX</td>\n",
       "      <td>MIA</td>\n",
       "      <td>20</td>\n",
       "      <td>...</td>\n",
       "      <td>NaN</td>\n",
       "      <td>NaN</td>\n",
       "      <td>NaN</td>\n",
       "      <td>MIA</td>\n",
       "      <td>Miami International Airport</td>\n",
       "      <td>Miami</td>\n",
       "      <td>FL</td>\n",
       "      <td>USA</td>\n",
       "      <td>25.79325</td>\n",
       "      <td>-80.29056</td>\n",
       "    </tr>\n",
       "    <tr>\n",
       "      <th>4</th>\n",
       "      <td>2015</td>\n",
       "      <td>1</td>\n",
       "      <td>1</td>\n",
       "      <td>4</td>\n",
       "      <td>AS</td>\n",
       "      <td>135</td>\n",
       "      <td>N527AS</td>\n",
       "      <td>SEA</td>\n",
       "      <td>ANC</td>\n",
       "      <td>25</td>\n",
       "      <td>...</td>\n",
       "      <td>NaN</td>\n",
       "      <td>NaN</td>\n",
       "      <td>NaN</td>\n",
       "      <td>ANC</td>\n",
       "      <td>Ted Stevens Anchorage International Airport</td>\n",
       "      <td>Anchorage</td>\n",
       "      <td>AK</td>\n",
       "      <td>USA</td>\n",
       "      <td>61.17432</td>\n",
       "      <td>-149.99619</td>\n",
       "    </tr>\n",
       "  </tbody>\n",
       "</table>\n",
       "<p>5 rows × 38 columns</p>\n",
       "</div>"
      ],
      "text/plain": [
       "   YEAR  MONTH  DAY  DAY_OF_WEEK AIRLINE  FLIGHT_NUMBER TAIL_NUMBER  \\\n",
       "0  2015      1    1            4      AS             98      N407AS   \n",
       "1  2015      1    1            4      AA           2336      N3KUAA   \n",
       "2  2015      1    1            4      US            840      N171US   \n",
       "3  2015      1    1            4      AA            258      N3HYAA   \n",
       "4  2015      1    1            4      AS            135      N527AS   \n",
       "\n",
       "  ORIGIN_AIRPORT DESTINATION_AIRPORT  SCHEDULED_DEPARTURE  ...  AIRLINE_DELAY  \\\n",
       "0            ANC                 SEA                    5  ...            NaN   \n",
       "1            LAX                 PBI                   10  ...            NaN   \n",
       "2            SFO                 CLT                   20  ...            NaN   \n",
       "3            LAX                 MIA                   20  ...            NaN   \n",
       "4            SEA                 ANC                   25  ...            NaN   \n",
       "\n",
       "   LATE_AIRCRAFT_DELAY  WEATHER_DELAY  DEST_AIRPORT_IATA_CODE  \\\n",
       "0                  NaN            NaN                     SEA   \n",
       "1                  NaN            NaN                     PBI   \n",
       "2                  NaN            NaN                     CLT   \n",
       "3                  NaN            NaN                     MIA   \n",
       "4                  NaN            NaN                     ANC   \n",
       "\n",
       "                             DEST_AIRPORT_NAME  DEST_AIRPORT_CITY  \\\n",
       "0         Seattle-Tacoma International Airport            Seattle   \n",
       "1             Palm Beach International Airport    West Palm Beach   \n",
       "2      Charlotte Douglas International Airport          Charlotte   \n",
       "3                  Miami International Airport              Miami   \n",
       "4  Ted Stevens Anchorage International Airport          Anchorage   \n",
       "\n",
       "   DEST_AIRPORT_STATE  DEST_AIRPORT_COUNTRY  DEST_AIRPORT_LATITUDE  \\\n",
       "0                  WA                   USA               47.44898   \n",
       "1                  FL                   USA               26.68316   \n",
       "2                  NC                   USA               35.21401   \n",
       "3                  FL                   USA               25.79325   \n",
       "4                  AK                   USA               61.17432   \n",
       "\n",
       "   DEST_AIRPORT_LONGITUDE  \n",
       "0              -122.30931  \n",
       "1               -80.09559  \n",
       "2               -80.94313  \n",
       "3               -80.29056  \n",
       "4              -149.99619  \n",
       "\n",
       "[5 rows x 38 columns]"
      ]
     },
     "execution_count": 9,
     "metadata": {},
     "output_type": "execute_result"
    }
   ],
   "source": [
    "\n",
    "mergedPD.rename(columns={'IATA_CODE': 'DEST_AIRPORT_IATA_CODE',\n",
    "                   'AIRPORT': 'DEST_AIRPORT_NAME',\n",
    "                   'CITY': 'DEST_AIRPORT_CITY',\n",
    "                   'STATE': 'DEST_AIRPORT_STATE',\n",
    "                   'COUNTRY': 'DEST_AIRPORT_COUNTRY',\n",
    "                   'LATITUDE': 'DEST_AIRPORT_LATITUDE',\n",
    "                    'LONGITUDE': 'DEST_AIRPORT_LONGITUDE',\n",
    "                   },\n",
    "          inplace=True, errors='raise')\n",
    "\n",
    "mergedPD.head()"
   ]
  },
  {
   "attachments": {},
   "cell_type": "markdown",
   "metadata": {},
   "source": [
    "We can now continue to alter the merged database to enclose all outputs"
   ]
  },
  {
   "cell_type": "code",
   "execution_count": 10,
   "metadata": {},
   "outputs": [],
   "source": [
    "mergedPD =pd.merge(mergedPD, airports, left_on='ORIGIN_AIRPORT', right_on='IATA_CODE', how='left')"
   ]
  },
  {
   "cell_type": "code",
   "execution_count": 11,
   "metadata": {},
   "outputs": [
    {
     "data": {
      "text/html": [
       "<div>\n",
       "<style scoped>\n",
       "    .dataframe tbody tr th:only-of-type {\n",
       "        vertical-align: middle;\n",
       "    }\n",
       "\n",
       "    .dataframe tbody tr th {\n",
       "        vertical-align: top;\n",
       "    }\n",
       "\n",
       "    .dataframe thead th {\n",
       "        text-align: right;\n",
       "    }\n",
       "</style>\n",
       "<table border=\"1\" class=\"dataframe\">\n",
       "  <thead>\n",
       "    <tr style=\"text-align: right;\">\n",
       "      <th></th>\n",
       "      <th>YEAR</th>\n",
       "      <th>MONTH</th>\n",
       "      <th>DAY</th>\n",
       "      <th>DAY_OF_WEEK</th>\n",
       "      <th>AIRLINE</th>\n",
       "      <th>FLIGHT_NUMBER</th>\n",
       "      <th>TAIL_NUMBER</th>\n",
       "      <th>ORIGIN_AIRPORT</th>\n",
       "      <th>DESTINATION_AIRPORT</th>\n",
       "      <th>SCHEDULED_DEPARTURE</th>\n",
       "      <th>...</th>\n",
       "      <th>DEST_AIRPORT_COUNTRY</th>\n",
       "      <th>DEST_AIRPORT_LATITUDE</th>\n",
       "      <th>DEST_AIRPORT_LONGITUDE</th>\n",
       "      <th>ORIGIN_AIRPORT_IATA_CODE</th>\n",
       "      <th>ORIGIN_AIRPORT_NAME</th>\n",
       "      <th>ORIGIN_AIRPORT_CITY</th>\n",
       "      <th>ORIGIN_AIRPORT_STATE</th>\n",
       "      <th>ORIGIN_AIRPORT_COUNTRY</th>\n",
       "      <th>ORIGIN_AIRPORT_LATITUDE</th>\n",
       "      <th>ORIGIN_AIRPORT_LONGITUDE</th>\n",
       "    </tr>\n",
       "  </thead>\n",
       "  <tbody>\n",
       "    <tr>\n",
       "      <th>0</th>\n",
       "      <td>2015</td>\n",
       "      <td>1</td>\n",
       "      <td>1</td>\n",
       "      <td>4</td>\n",
       "      <td>AS</td>\n",
       "      <td>98</td>\n",
       "      <td>N407AS</td>\n",
       "      <td>ANC</td>\n",
       "      <td>SEA</td>\n",
       "      <td>5</td>\n",
       "      <td>...</td>\n",
       "      <td>USA</td>\n",
       "      <td>47.44898</td>\n",
       "      <td>-122.30931</td>\n",
       "      <td>ANC</td>\n",
       "      <td>Ted Stevens Anchorage International Airport</td>\n",
       "      <td>Anchorage</td>\n",
       "      <td>AK</td>\n",
       "      <td>USA</td>\n",
       "      <td>61.17432</td>\n",
       "      <td>-149.99619</td>\n",
       "    </tr>\n",
       "    <tr>\n",
       "      <th>1</th>\n",
       "      <td>2015</td>\n",
       "      <td>1</td>\n",
       "      <td>1</td>\n",
       "      <td>4</td>\n",
       "      <td>AA</td>\n",
       "      <td>2336</td>\n",
       "      <td>N3KUAA</td>\n",
       "      <td>LAX</td>\n",
       "      <td>PBI</td>\n",
       "      <td>10</td>\n",
       "      <td>...</td>\n",
       "      <td>USA</td>\n",
       "      <td>26.68316</td>\n",
       "      <td>-80.09559</td>\n",
       "      <td>LAX</td>\n",
       "      <td>Los Angeles International Airport</td>\n",
       "      <td>Los Angeles</td>\n",
       "      <td>CA</td>\n",
       "      <td>USA</td>\n",
       "      <td>33.94254</td>\n",
       "      <td>-118.40807</td>\n",
       "    </tr>\n",
       "    <tr>\n",
       "      <th>2</th>\n",
       "      <td>2015</td>\n",
       "      <td>1</td>\n",
       "      <td>1</td>\n",
       "      <td>4</td>\n",
       "      <td>US</td>\n",
       "      <td>840</td>\n",
       "      <td>N171US</td>\n",
       "      <td>SFO</td>\n",
       "      <td>CLT</td>\n",
       "      <td>20</td>\n",
       "      <td>...</td>\n",
       "      <td>USA</td>\n",
       "      <td>35.21401</td>\n",
       "      <td>-80.94313</td>\n",
       "      <td>SFO</td>\n",
       "      <td>San Francisco International Airport</td>\n",
       "      <td>San Francisco</td>\n",
       "      <td>CA</td>\n",
       "      <td>USA</td>\n",
       "      <td>37.61900</td>\n",
       "      <td>-122.37484</td>\n",
       "    </tr>\n",
       "    <tr>\n",
       "      <th>3</th>\n",
       "      <td>2015</td>\n",
       "      <td>1</td>\n",
       "      <td>1</td>\n",
       "      <td>4</td>\n",
       "      <td>AA</td>\n",
       "      <td>258</td>\n",
       "      <td>N3HYAA</td>\n",
       "      <td>LAX</td>\n",
       "      <td>MIA</td>\n",
       "      <td>20</td>\n",
       "      <td>...</td>\n",
       "      <td>USA</td>\n",
       "      <td>25.79325</td>\n",
       "      <td>-80.29056</td>\n",
       "      <td>LAX</td>\n",
       "      <td>Los Angeles International Airport</td>\n",
       "      <td>Los Angeles</td>\n",
       "      <td>CA</td>\n",
       "      <td>USA</td>\n",
       "      <td>33.94254</td>\n",
       "      <td>-118.40807</td>\n",
       "    </tr>\n",
       "    <tr>\n",
       "      <th>4</th>\n",
       "      <td>2015</td>\n",
       "      <td>1</td>\n",
       "      <td>1</td>\n",
       "      <td>4</td>\n",
       "      <td>AS</td>\n",
       "      <td>135</td>\n",
       "      <td>N527AS</td>\n",
       "      <td>SEA</td>\n",
       "      <td>ANC</td>\n",
       "      <td>25</td>\n",
       "      <td>...</td>\n",
       "      <td>USA</td>\n",
       "      <td>61.17432</td>\n",
       "      <td>-149.99619</td>\n",
       "      <td>SEA</td>\n",
       "      <td>Seattle-Tacoma International Airport</td>\n",
       "      <td>Seattle</td>\n",
       "      <td>WA</td>\n",
       "      <td>USA</td>\n",
       "      <td>47.44898</td>\n",
       "      <td>-122.30931</td>\n",
       "    </tr>\n",
       "  </tbody>\n",
       "</table>\n",
       "<p>5 rows × 45 columns</p>\n",
       "</div>"
      ],
      "text/plain": [
       "   YEAR  MONTH  DAY  DAY_OF_WEEK AIRLINE  FLIGHT_NUMBER TAIL_NUMBER  \\\n",
       "0  2015      1    1            4      AS             98      N407AS   \n",
       "1  2015      1    1            4      AA           2336      N3KUAA   \n",
       "2  2015      1    1            4      US            840      N171US   \n",
       "3  2015      1    1            4      AA            258      N3HYAA   \n",
       "4  2015      1    1            4      AS            135      N527AS   \n",
       "\n",
       "  ORIGIN_AIRPORT DESTINATION_AIRPORT  SCHEDULED_DEPARTURE  ...  \\\n",
       "0            ANC                 SEA                    5  ...   \n",
       "1            LAX                 PBI                   10  ...   \n",
       "2            SFO                 CLT                   20  ...   \n",
       "3            LAX                 MIA                   20  ...   \n",
       "4            SEA                 ANC                   25  ...   \n",
       "\n",
       "   DEST_AIRPORT_COUNTRY  DEST_AIRPORT_LATITUDE  DEST_AIRPORT_LONGITUDE  \\\n",
       "0                   USA               47.44898              -122.30931   \n",
       "1                   USA               26.68316               -80.09559   \n",
       "2                   USA               35.21401               -80.94313   \n",
       "3                   USA               25.79325               -80.29056   \n",
       "4                   USA               61.17432              -149.99619   \n",
       "\n",
       "   ORIGIN_AIRPORT_IATA_CODE                          ORIGIN_AIRPORT_NAME  \\\n",
       "0                       ANC  Ted Stevens Anchorage International Airport   \n",
       "1                       LAX            Los Angeles International Airport   \n",
       "2                       SFO          San Francisco International Airport   \n",
       "3                       LAX            Los Angeles International Airport   \n",
       "4                       SEA         Seattle-Tacoma International Airport   \n",
       "\n",
       "   ORIGIN_AIRPORT_CITY  ORIGIN_AIRPORT_STATE  ORIGIN_AIRPORT_COUNTRY  \\\n",
       "0            Anchorage                    AK                     USA   \n",
       "1          Los Angeles                    CA                     USA   \n",
       "2        San Francisco                    CA                     USA   \n",
       "3          Los Angeles                    CA                     USA   \n",
       "4              Seattle                    WA                     USA   \n",
       "\n",
       "   ORIGIN_AIRPORT_LATITUDE  ORIGIN_AIRPORT_LONGITUDE  \n",
       "0                 61.17432                -149.99619  \n",
       "1                 33.94254                -118.40807  \n",
       "2                 37.61900                -122.37484  \n",
       "3                 33.94254                -118.40807  \n",
       "4                 47.44898                -122.30931  \n",
       "\n",
       "[5 rows x 45 columns]"
      ]
     },
     "execution_count": 11,
     "metadata": {},
     "output_type": "execute_result"
    }
   ],
   "source": [
    "mergedPD.rename(columns={'IATA_CODE': 'ORIGIN_AIRPORT_IATA_CODE',\n",
    "                   'AIRPORT': 'ORIGIN_AIRPORT_NAME',\n",
    "                   'CITY': 'ORIGIN_AIRPORT_CITY',\n",
    "                   'STATE': 'ORIGIN_AIRPORT_STATE',\n",
    "                   'COUNTRY': 'ORIGIN_AIRPORT_COUNTRY',\n",
    "                   'LATITUDE': 'ORIGIN_AIRPORT_LATITUDE',\n",
    "                    'LONGITUDE': 'ORIGIN_AIRPORT_LONGITUDE',\n",
    "                   },\n",
    "          inplace=True, errors='raise')\n",
    "\n",
    "mergedPD.head()"
   ]
  },
  {
   "attachments": {},
   "cell_type": "markdown",
   "metadata": {},
   "source": [
    "We have now successfully integrated flights and airports now we must add in airlines"
   ]
  },
  {
   "cell_type": "code",
   "execution_count": 12,
   "metadata": {},
   "outputs": [],
   "source": [
    "mergedPD =pd.merge(mergedPD, airlines, left_on='AIRLINE', right_on='IATA_CODE', how='left')\n"
   ]
  },
  {
   "cell_type": "code",
   "execution_count": 13,
   "metadata": {},
   "outputs": [
    {
     "data": {
      "text/html": [
       "<div>\n",
       "<style scoped>\n",
       "    .dataframe tbody tr th:only-of-type {\n",
       "        vertical-align: middle;\n",
       "    }\n",
       "\n",
       "    .dataframe tbody tr th {\n",
       "        vertical-align: top;\n",
       "    }\n",
       "\n",
       "    .dataframe thead th {\n",
       "        text-align: right;\n",
       "    }\n",
       "</style>\n",
       "<table border=\"1\" class=\"dataframe\">\n",
       "  <thead>\n",
       "    <tr style=\"text-align: right;\">\n",
       "      <th></th>\n",
       "      <th>YEAR</th>\n",
       "      <th>MONTH</th>\n",
       "      <th>DAY</th>\n",
       "      <th>DAY_OF_WEEK</th>\n",
       "      <th>AIRLINE_x</th>\n",
       "      <th>FLIGHT_NUMBER</th>\n",
       "      <th>TAIL_NUMBER</th>\n",
       "      <th>ORIGIN_AIRPORT</th>\n",
       "      <th>DESTINATION_AIRPORT</th>\n",
       "      <th>SCHEDULED_DEPARTURE</th>\n",
       "      <th>...</th>\n",
       "      <th>DEST_AIRPORT_LONGITUDE</th>\n",
       "      <th>ORIGIN_AIRPORT_IATA_CODE</th>\n",
       "      <th>ORIGIN_AIRPORT_NAME</th>\n",
       "      <th>ORIGIN_AIRPORT_CITY</th>\n",
       "      <th>ORIGIN_AIRPORT_STATE</th>\n",
       "      <th>ORIGIN_AIRPORT_COUNTRY</th>\n",
       "      <th>ORIGIN_AIRPORT_LATITUDE</th>\n",
       "      <th>ORIGIN_AIRPORT_LONGITUDE</th>\n",
       "      <th>IATA_CODE</th>\n",
       "      <th>AIRLINE_y</th>\n",
       "    </tr>\n",
       "  </thead>\n",
       "  <tbody>\n",
       "    <tr>\n",
       "      <th>0</th>\n",
       "      <td>2015</td>\n",
       "      <td>1</td>\n",
       "      <td>1</td>\n",
       "      <td>4</td>\n",
       "      <td>AS</td>\n",
       "      <td>98</td>\n",
       "      <td>N407AS</td>\n",
       "      <td>ANC</td>\n",
       "      <td>SEA</td>\n",
       "      <td>5</td>\n",
       "      <td>...</td>\n",
       "      <td>-122.30931</td>\n",
       "      <td>ANC</td>\n",
       "      <td>Ted Stevens Anchorage International Airport</td>\n",
       "      <td>Anchorage</td>\n",
       "      <td>AK</td>\n",
       "      <td>USA</td>\n",
       "      <td>61.17432</td>\n",
       "      <td>-149.99619</td>\n",
       "      <td>AS</td>\n",
       "      <td>Alaska Airlines Inc.</td>\n",
       "    </tr>\n",
       "    <tr>\n",
       "      <th>1</th>\n",
       "      <td>2015</td>\n",
       "      <td>1</td>\n",
       "      <td>1</td>\n",
       "      <td>4</td>\n",
       "      <td>AA</td>\n",
       "      <td>2336</td>\n",
       "      <td>N3KUAA</td>\n",
       "      <td>LAX</td>\n",
       "      <td>PBI</td>\n",
       "      <td>10</td>\n",
       "      <td>...</td>\n",
       "      <td>-80.09559</td>\n",
       "      <td>LAX</td>\n",
       "      <td>Los Angeles International Airport</td>\n",
       "      <td>Los Angeles</td>\n",
       "      <td>CA</td>\n",
       "      <td>USA</td>\n",
       "      <td>33.94254</td>\n",
       "      <td>-118.40807</td>\n",
       "      <td>AA</td>\n",
       "      <td>American Airlines Inc.</td>\n",
       "    </tr>\n",
       "    <tr>\n",
       "      <th>2</th>\n",
       "      <td>2015</td>\n",
       "      <td>1</td>\n",
       "      <td>1</td>\n",
       "      <td>4</td>\n",
       "      <td>US</td>\n",
       "      <td>840</td>\n",
       "      <td>N171US</td>\n",
       "      <td>SFO</td>\n",
       "      <td>CLT</td>\n",
       "      <td>20</td>\n",
       "      <td>...</td>\n",
       "      <td>-80.94313</td>\n",
       "      <td>SFO</td>\n",
       "      <td>San Francisco International Airport</td>\n",
       "      <td>San Francisco</td>\n",
       "      <td>CA</td>\n",
       "      <td>USA</td>\n",
       "      <td>37.61900</td>\n",
       "      <td>-122.37484</td>\n",
       "      <td>US</td>\n",
       "      <td>US Airways Inc.</td>\n",
       "    </tr>\n",
       "    <tr>\n",
       "      <th>3</th>\n",
       "      <td>2015</td>\n",
       "      <td>1</td>\n",
       "      <td>1</td>\n",
       "      <td>4</td>\n",
       "      <td>AA</td>\n",
       "      <td>258</td>\n",
       "      <td>N3HYAA</td>\n",
       "      <td>LAX</td>\n",
       "      <td>MIA</td>\n",
       "      <td>20</td>\n",
       "      <td>...</td>\n",
       "      <td>-80.29056</td>\n",
       "      <td>LAX</td>\n",
       "      <td>Los Angeles International Airport</td>\n",
       "      <td>Los Angeles</td>\n",
       "      <td>CA</td>\n",
       "      <td>USA</td>\n",
       "      <td>33.94254</td>\n",
       "      <td>-118.40807</td>\n",
       "      <td>AA</td>\n",
       "      <td>American Airlines Inc.</td>\n",
       "    </tr>\n",
       "    <tr>\n",
       "      <th>4</th>\n",
       "      <td>2015</td>\n",
       "      <td>1</td>\n",
       "      <td>1</td>\n",
       "      <td>4</td>\n",
       "      <td>AS</td>\n",
       "      <td>135</td>\n",
       "      <td>N527AS</td>\n",
       "      <td>SEA</td>\n",
       "      <td>ANC</td>\n",
       "      <td>25</td>\n",
       "      <td>...</td>\n",
       "      <td>-149.99619</td>\n",
       "      <td>SEA</td>\n",
       "      <td>Seattle-Tacoma International Airport</td>\n",
       "      <td>Seattle</td>\n",
       "      <td>WA</td>\n",
       "      <td>USA</td>\n",
       "      <td>47.44898</td>\n",
       "      <td>-122.30931</td>\n",
       "      <td>AS</td>\n",
       "      <td>Alaska Airlines Inc.</td>\n",
       "    </tr>\n",
       "  </tbody>\n",
       "</table>\n",
       "<p>5 rows × 47 columns</p>\n",
       "</div>"
      ],
      "text/plain": [
       "   YEAR  MONTH  DAY  DAY_OF_WEEK AIRLINE_x  FLIGHT_NUMBER TAIL_NUMBER  \\\n",
       "0  2015      1    1            4        AS             98      N407AS   \n",
       "1  2015      1    1            4        AA           2336      N3KUAA   \n",
       "2  2015      1    1            4        US            840      N171US   \n",
       "3  2015      1    1            4        AA            258      N3HYAA   \n",
       "4  2015      1    1            4        AS            135      N527AS   \n",
       "\n",
       "  ORIGIN_AIRPORT DESTINATION_AIRPORT  SCHEDULED_DEPARTURE  ...  \\\n",
       "0            ANC                 SEA                    5  ...   \n",
       "1            LAX                 PBI                   10  ...   \n",
       "2            SFO                 CLT                   20  ...   \n",
       "3            LAX                 MIA                   20  ...   \n",
       "4            SEA                 ANC                   25  ...   \n",
       "\n",
       "   DEST_AIRPORT_LONGITUDE  ORIGIN_AIRPORT_IATA_CODE  \\\n",
       "0              -122.30931                       ANC   \n",
       "1               -80.09559                       LAX   \n",
       "2               -80.94313                       SFO   \n",
       "3               -80.29056                       LAX   \n",
       "4              -149.99619                       SEA   \n",
       "\n",
       "                           ORIGIN_AIRPORT_NAME  ORIGIN_AIRPORT_CITY  \\\n",
       "0  Ted Stevens Anchorage International Airport            Anchorage   \n",
       "1            Los Angeles International Airport          Los Angeles   \n",
       "2          San Francisco International Airport        San Francisco   \n",
       "3            Los Angeles International Airport          Los Angeles   \n",
       "4         Seattle-Tacoma International Airport              Seattle   \n",
       "\n",
       "   ORIGIN_AIRPORT_STATE  ORIGIN_AIRPORT_COUNTRY  ORIGIN_AIRPORT_LATITUDE  \\\n",
       "0                    AK                     USA                 61.17432   \n",
       "1                    CA                     USA                 33.94254   \n",
       "2                    CA                     USA                 37.61900   \n",
       "3                    CA                     USA                 33.94254   \n",
       "4                    WA                     USA                 47.44898   \n",
       "\n",
       "   ORIGIN_AIRPORT_LONGITUDE  IATA_CODE               AIRLINE_y  \n",
       "0                -149.99619         AS    Alaska Airlines Inc.  \n",
       "1                -118.40807         AA  American Airlines Inc.  \n",
       "2                -122.37484         US         US Airways Inc.  \n",
       "3                -118.40807         AA  American Airlines Inc.  \n",
       "4                -122.30931         AS    Alaska Airlines Inc.  \n",
       "\n",
       "[5 rows x 47 columns]"
      ]
     },
     "execution_count": 13,
     "metadata": {},
     "output_type": "execute_result"
    }
   ],
   "source": [
    "mergedPD.head()"
   ]
  },
  {
   "cell_type": "code",
   "execution_count": 14,
   "metadata": {},
   "outputs": [],
   "source": [
    "mergedPD.rename(columns={'IATA_CODE': 'AIRLINE_IATA_CODE',\n",
    "                   'AIRLINE_y': 'AIRLINE_NAME'\n",
    "                   \n",
    "                   },\n",
    "          inplace=True, errors='raise')\n"
   ]
  },
  {
   "cell_type": "code",
   "execution_count": 15,
   "metadata": {},
   "outputs": [
    {
     "data": {
      "text/plain": [
       "Index(['YEAR', 'MONTH', 'DAY', 'DAY_OF_WEEK', 'AIRLINE_x', 'FLIGHT_NUMBER',\n",
       "       'TAIL_NUMBER', 'ORIGIN_AIRPORT', 'DESTINATION_AIRPORT',\n",
       "       'SCHEDULED_DEPARTURE', 'DEPARTURE_TIME', 'DEPARTURE_DELAY', 'TAXI_OUT',\n",
       "       'WHEELS_OFF', 'SCHEDULED_TIME', 'ELAPSED_TIME', 'AIR_TIME', 'DISTANCE',\n",
       "       'WHEELS_ON', 'TAXI_IN', 'SCHEDULED_ARRIVAL', 'ARRIVAL_TIME',\n",
       "       'ARRIVAL_DELAY', 'DIVERTED', 'CANCELLED', 'CANCELLATION_REASON',\n",
       "       'AIR_SYSTEM_DELAY', 'SECURITY_DELAY', 'AIRLINE_DELAY',\n",
       "       'LATE_AIRCRAFT_DELAY', 'WEATHER_DELAY', 'DEST_AIRPORT_IATA_CODE',\n",
       "       'DEST_AIRPORT_NAME', 'DEST_AIRPORT_CITY', 'DEST_AIRPORT_STATE',\n",
       "       'DEST_AIRPORT_COUNTRY', 'DEST_AIRPORT_LATITUDE',\n",
       "       'DEST_AIRPORT_LONGITUDE', 'ORIGIN_AIRPORT_IATA_CODE',\n",
       "       'ORIGIN_AIRPORT_NAME', 'ORIGIN_AIRPORT_CITY', 'ORIGIN_AIRPORT_STATE',\n",
       "       'ORIGIN_AIRPORT_COUNTRY', 'ORIGIN_AIRPORT_LATITUDE',\n",
       "       'ORIGIN_AIRPORT_LONGITUDE', 'AIRLINE_IATA_CODE', 'AIRLINE_NAME'],\n",
       "      dtype='object')"
      ]
     },
     "execution_count": 15,
     "metadata": {},
     "output_type": "execute_result"
    }
   ],
   "source": [
    "mergedPD.columns"
   ]
  },
  {
   "attachments": {},
   "cell_type": "markdown",
   "metadata": {},
   "source": [
    "We have successfully integrated all data sets into one large data frame"
   ]
  },
  {
   "attachments": {},
   "cell_type": "markdown",
   "metadata": {},
   "source": [
    "We must now begin cleaning our data "
   ]
  },
  {
   "attachments": {},
   "cell_type": "markdown",
   "metadata": {},
   "source": [
    "First To drop repeated columns as a result of merging"
   ]
  },
  {
   "cell_type": "code",
   "execution_count": 16,
   "metadata": {},
   "outputs": [],
   "source": [
    "mergedPD.drop(columns=[\"ORIGIN_AIRPORT\", \"AIRLINE_x\",\"DESTINATION_AIRPORT\"], axis=1, inplace=True)"
   ]
  },
  {
   "attachments": {},
   "cell_type": "markdown",
   "metadata": {},
   "source": [
    "Second to drop columns with an influx of null values"
   ]
  },
  {
   "cell_type": "code",
   "execution_count": 17,
   "metadata": {},
   "outputs": [
    {
     "data": {
      "text/plain": [
       "YEAR                              0\n",
       "MONTH                             0\n",
       "DAY                               0\n",
       "DAY_OF_WEEK                       0\n",
       "FLIGHT_NUMBER                     0\n",
       "TAIL_NUMBER                   14721\n",
       "SCHEDULED_DEPARTURE               0\n",
       "DEPARTURE_TIME                86153\n",
       "DEPARTURE_DELAY               86153\n",
       "TAXI_OUT                      89047\n",
       "WHEELS_OFF                    89047\n",
       "SCHEDULED_TIME                    6\n",
       "ELAPSED_TIME                 105071\n",
       "AIR_TIME                     105071\n",
       "DISTANCE                          0\n",
       "WHEELS_ON                     92513\n",
       "TAXI_IN                       92513\n",
       "SCHEDULED_ARRIVAL                 0\n",
       "ARRIVAL_TIME                  92513\n",
       "ARRIVAL_DELAY                105071\n",
       "DIVERTED                          0\n",
       "CANCELLED                         0\n",
       "CANCELLATION_REASON         5729195\n",
       "AIR_SYSTEM_DELAY            4755640\n",
       "SECURITY_DELAY              4755640\n",
       "AIRLINE_DELAY               4755640\n",
       "LATE_AIRCRAFT_DELAY         4755640\n",
       "WEATHER_DELAY               4755640\n",
       "DEST_AIRPORT_IATA_CODE       486165\n",
       "DEST_AIRPORT_NAME            486165\n",
       "DEST_AIRPORT_CITY            486165\n",
       "DEST_AIRPORT_STATE           486165\n",
       "DEST_AIRPORT_COUNTRY         486165\n",
       "DEST_AIRPORT_LATITUDE        490775\n",
       "DEST_AIRPORT_LONGITUDE       490775\n",
       "ORIGIN_AIRPORT_IATA_CODE     486165\n",
       "ORIGIN_AIRPORT_NAME          486165\n",
       "ORIGIN_AIRPORT_CITY          486165\n",
       "ORIGIN_AIRPORT_STATE         486165\n",
       "ORIGIN_AIRPORT_COUNTRY       486165\n",
       "ORIGIN_AIRPORT_LATITUDE      490770\n",
       "ORIGIN_AIRPORT_LONGITUDE     490770\n",
       "AIRLINE_IATA_CODE                 0\n",
       "AIRLINE_NAME                      0\n",
       "dtype: int64"
      ]
     },
     "execution_count": 17,
     "metadata": {},
     "output_type": "execute_result"
    }
   ],
   "source": [
    "mergedPD.isnull().sum()"
   ]
  },
  {
   "cell_type": "code",
   "execution_count": 18,
   "metadata": {},
   "outputs": [],
   "source": [
    "mergedPD.drop(['CANCELLATION_REASON', 'AIR_SYSTEM_DELAY','SECURITY_DELAY','AIRLINE_DELAY','LATE_AIRCRAFT_DELAY','WEATHER_DELAY'], axis = 1, inplace = True) "
   ]
  },
  {
   "cell_type": "code",
   "execution_count": 19,
   "metadata": {},
   "outputs": [],
   "source": [
    "mergedPD = mergedPD.dropna(subset=['DEST_AIRPORT_IATA_CODE'])"
   ]
  },
  {
   "cell_type": "code",
   "execution_count": 20,
   "metadata": {},
   "outputs": [],
   "source": [
    "mergedPD = mergedPD.dropna(subset=['SCHEDULED_TIME'])"
   ]
  },
  {
   "attachments": {},
   "cell_type": "markdown",
   "metadata": {},
   "source": [
    "We removed all columns who we belive have no hope in being logical ergo, if they didn't have a destination/origin once merged"
   ]
  },
  {
   "cell_type": "code",
   "execution_count": 21,
   "metadata": {},
   "outputs": [
    {
     "data": {
      "text/plain": [
       "YEAR                             0\n",
       "MONTH                            0\n",
       "DAY                              0\n",
       "DAY_OF_WEEK                      0\n",
       "FLIGHT_NUMBER                    0\n",
       "TAIL_NUMBER                  14367\n",
       "SCHEDULED_DEPARTURE              0\n",
       "DEPARTURE_TIME               83814\n",
       "DEPARTURE_DELAY              83814\n",
       "TAXI_OUT                     86612\n",
       "WHEELS_OFF                   86612\n",
       "SCHEDULED_TIME                   0\n",
       "ELAPSED_TIME                101778\n",
       "AIR_TIME                    101778\n",
       "DISTANCE                         0\n",
       "WHEELS_ON                    89936\n",
       "TAXI_IN                      89936\n",
       "SCHEDULED_ARRIVAL                0\n",
       "ARRIVAL_TIME                 89936\n",
       "ARRIVAL_DELAY               101778\n",
       "DIVERTED                         0\n",
       "CANCELLED                        0\n",
       "DEST_AIRPORT_IATA_CODE           0\n",
       "DEST_AIRPORT_NAME                0\n",
       "DEST_AIRPORT_CITY                0\n",
       "DEST_AIRPORT_STATE               0\n",
       "DEST_AIRPORT_COUNTRY             0\n",
       "DEST_AIRPORT_LATITUDE         4610\n",
       "DEST_AIRPORT_LONGITUDE        4610\n",
       "ORIGIN_AIRPORT_IATA_CODE         0\n",
       "ORIGIN_AIRPORT_NAME              0\n",
       "ORIGIN_AIRPORT_CITY              0\n",
       "ORIGIN_AIRPORT_STATE             0\n",
       "ORIGIN_AIRPORT_COUNTRY           0\n",
       "ORIGIN_AIRPORT_LATITUDE       4605\n",
       "ORIGIN_AIRPORT_LONGITUDE      4605\n",
       "AIRLINE_IATA_CODE                0\n",
       "AIRLINE_NAME                     0\n",
       "dtype: int64"
      ]
     },
     "execution_count": 21,
     "metadata": {},
     "output_type": "execute_result"
    }
   ],
   "source": [
    "mergedPD.isnull().sum()"
   ]
  },
  {
   "attachments": {},
   "cell_type": "markdown",
   "metadata": {},
   "source": [
    "Now, these null values can be comptuted however first we must esure that are data is free from outliers"
   ]
  },
  {
   "cell_type": "code",
   "execution_count": 22,
   "metadata": {},
   "outputs": [
    {
     "data": {
      "image/png": "[encoded data removed]",
      "text/plain": [
       "<Figure size 640x480 with 1 Axes>"
      ]
     },
     "metadata": {},
     "output_type": "display_data"
    }
   ],
   "source": [
    "ax = sns.boxplot(data=mergedPD, orient=\"h\", palette=\"Set2\")"
   ]
  },
  {
   "attachments": {},
   "cell_type": "markdown",
   "metadata": {},
   "source": [
    "After accessing the data we can remove the outliers of the data field distance however for the delays outliers are understandable and expected and for flight number they are supposed to be consider unique "
   ]
  },
  {
   "cell_type": "code",
   "execution_count": 23,
   "metadata": {},
   "outputs": [],
   "source": [
    "mergedPD = remove_outlier(mergedPD,'DISTANCE')"
   ]
  },
  {
   "cell_type": "code",
   "execution_count": 24,
   "metadata": {},
   "outputs": [],
   "source": [
    "mergedPD.interpolate(method ='linear', limit_direction ='backward', inplace=True)"
   ]
  },
  {
   "cell_type": "code",
   "execution_count": 25,
   "metadata": {},
   "outputs": [
    {
     "data": {
      "text/plain": [
       "YEAR                            0\n",
       "MONTH                           0\n",
       "DAY                             0\n",
       "DAY_OF_WEEK                     0\n",
       "FLIGHT_NUMBER                   0\n",
       "TAIL_NUMBER                 12954\n",
       "SCHEDULED_DEPARTURE             0\n",
       "DEPARTURE_TIME                  0\n",
       "DEPARTURE_DELAY                 0\n",
       "TAXI_OUT                        0\n",
       "WHEELS_OFF                      0\n",
       "SCHEDULED_TIME                  0\n",
       "ELAPSED_TIME                    0\n",
       "AIR_TIME                        0\n",
       "DISTANCE                        0\n",
       "WHEELS_ON                       0\n",
       "TAXI_IN                         0\n",
       "SCHEDULED_ARRIVAL               0\n",
       "ARRIVAL_TIME                    0\n",
       "ARRIVAL_DELAY                   0\n",
       "DIVERTED                        0\n",
       "CANCELLED                       0\n",
       "DEST_AIRPORT_IATA_CODE          0\n",
       "DEST_AIRPORT_NAME               0\n",
       "DEST_AIRPORT_CITY               0\n",
       "DEST_AIRPORT_STATE              0\n",
       "DEST_AIRPORT_COUNTRY            0\n",
       "DEST_AIRPORT_LATITUDE           0\n",
       "DEST_AIRPORT_LONGITUDE          0\n",
       "ORIGIN_AIRPORT_IATA_CODE        0\n",
       "ORIGIN_AIRPORT_NAME             0\n",
       "ORIGIN_AIRPORT_CITY             0\n",
       "ORIGIN_AIRPORT_STATE            0\n",
       "ORIGIN_AIRPORT_COUNTRY          0\n",
       "ORIGIN_AIRPORT_LATITUDE         0\n",
       "ORIGIN_AIRPORT_LONGITUDE        0\n",
       "AIRLINE_IATA_CODE               0\n",
       "AIRLINE_NAME                    0\n",
       "dtype: int64"
      ]
     },
     "execution_count": 25,
     "metadata": {},
     "output_type": "execute_result"
    }
   ],
   "source": [
    "mergedPD.isnull().sum()"
   ]
  },
  {
   "cell_type": "code",
   "execution_count": 26,
   "metadata": {},
   "outputs": [
    {
     "name": "stderr",
     "output_type": "stream",
     "text": [
      "C:\\Users\\Yahia\\AppData\\Local\\Temp\\ipykernel_3932\\573404064.py:1: FutureWarning: The default value of numeric_only in DataFrame.corr is deprecated. In a future version, it will default to False. Select only valid columns or specify the value of numeric_only to silence this warning.\n",
      "  sns.heatmap(mergedPD.corr())\n"
     ]
    },
    {
     "data": {
      "text/plain": [
       "<AxesSubplot: >"
      ]
     },
     "execution_count": 26,
     "metadata": {},
     "output_type": "execute_result"
    },
    {
     "data": {
      "image/png": "[encoded data removed]",
      "text/plain": [
       "<Figure size 640x480 with 2 Axes>"
      ]
     },
     "metadata": {},
     "output_type": "display_data"
    }
   ],
   "source": [
    "sns.heatmap(mergedPD.corr())"
   ]
  },
  {
   "attachments": {},
   "cell_type": "markdown",
   "metadata": {},
   "source": [
    "Does the airline have to do correlated to the arrival delay"
   ]
  },
  {
   "cell_type": "code",
   "execution_count": 33,
   "metadata": {},
   "outputs": [],
   "source": [
    "sns.barplot(x = \"AIRLINE_IATA_CODE\", y = \"ARRIVAL_DELAY\",  hue='DEST_AIRPORT_STATE',data = mergedPD)"
   ]
  },
  {
   "cell_type": "code",
   "execution_count": null,
   "metadata": {},
   "outputs": [],
   "source": []
  }
 ],
 "metadata": {
  "kernelspec": {
   "display_name": "Python 3",
   "language": "python",
   "name": "python3"
  },
  "language_info": {
   "codemirror_mode": {
    "name": "ipython",
    "version": 3
   },
   "file_extension": ".py",
   "mimetype": "text/x-python",
   "name": "python",
   "nbconvert_exporter": "python",
   "pygments_lexer": "ipython3",
   "version": "3.10.9"
  },
  "orig_nbformat": 4,
  "vscode": {
   "interpreter": {
    "hash": "464a111a796af48f67a9a14264605573774508c32a59ae50fb23d51e3b4a45bd"
   }
  }
 },
 "nbformat": 4,
 "nbformat_minor": 2
}
